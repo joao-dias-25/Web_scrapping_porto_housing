{
 "cells": [
  {
   "cell_type": "code",
   "execution_count": null,
   "metadata": {},
   "outputs": [],
   "source": [
    "import pandas as pd"
   ]
  },
  {
   "cell_type": "code",
   "execution_count": null,
   "metadata": {},
   "outputs": [],
   "source": [
    "df=pd.read_csv('clean.csv')"
   ]
  },
  {
   "cell_type": "code",
   "execution_count": null,
   "metadata": {},
   "outputs": [],
   "source": [
    "import plotly.figure_factory as ff\n",
    "import numpy as np\n",
    "\n",
    "x0 = np.array(df.loc[df.Tipolo==0]['price'])\n",
    "x1 = np.array(df.loc[df.Tipolo==1]['price'])\n",
    "x2 = np.array(df.loc[df.Tipolo==2]['price'])\n",
    "x3 = np.array(df.loc[df.Tipolo==3]['price'])\n",
    "x4 = np.array(df.loc[df.Tipolo==4]['price'])\n",
    "\n",
    "hist_data = [x0,x1,x2,x3,x4]\n",
    "\n",
    "group_labels = ['1 room Ap', '2 rooms Ap','3 rooms Ap','4 rooms Ap','5 rooms Ap' ]\n",
    "colors = ['#835AF1', '#7FA6EE', '#B8F7D4','#2BCDC1', '#F66095']\n",
    "\n",
    "# Create distplot with curve_type set to 'normal'\n",
    "fig = ff.create_distplot(hist_data, group_labels, bin_size=10000, colors=colors)\n",
    "\n",
    "# Add title\n",
    "fig.update(layout_title_text='Price Distribution flats offers in Porto Downtown')\n",
    "fig.show()"
   ]
  },
  {
   "cell_type": "code",
   "execution_count": null,
   "metadata": {},
   "outputs": [],
   "source": [
    "import plotly.figure_factory as ff\n",
    "import numpy as np\n",
    "\n",
    "x0 = np.array(df.loc[df.Tipolo==0]['areau'])\n",
    "x1 = np.array(df.loc[df.Tipolo==1]['areau'])\n",
    "x2 = np.array(df.loc[df.Tipolo==2]['areau'])\n",
    "x3 = np.array(df.loc[df.Tipolo==3]['areau'])\n",
    "x4 = np.array(df.loc[df.Tipolo==4]['areau'])\n",
    "\n",
    "hist_data = [x0,x1,x2,x3,x4]\n",
    "\n",
    "group_labels = ['1 room Ap', '2 rooms Ap','3 rooms Ap','4 rooms Ap','5 rooms Ap' ]\n",
    "colors = ['#835AF1', '#7FA6EE', '#B8F7D4','#2BCDC1', '#F66095']\n",
    "\n",
    "# Create distplot with curve_type set to 'normal'\n",
    "fig = ff.create_distplot(hist_data, group_labels, bin_size=10, colors=colors)\n",
    "\n",
    "# Add title\n",
    "fig.update(layout_title_text='Square feet Distribution on flats offers in Porto Downtown')\n",
    "fig.show()"
   ]
  },
  {
   "cell_type": "code",
   "execution_count": null,
   "metadata": {},
   "outputs": [],
   "source": [
    "import plotly.express as px\n",
    "\n",
    "e=df.loc[(df.Tipolo<5)]\n",
    "\n",
    "fig = px.histogram(e, x=\"price\",  color=\"Tipolo\",\n",
    "                   marginal=\"box\", # or violin, rug\n",
    "                   hover_data=[e.price,e.areau])\n",
    "fig.show()"
   ]
  },
  {
   "cell_type": "code",
   "execution_count": null,
   "metadata": {},
   "outputs": [],
   "source": [
    "import plotly.express as px\n",
    "\n",
    "fig = px.pie(df, names='district',\n",
    "             title='district % on the dataset',\n",
    "             hover_data=['district'])\n",
    "fig.update_traces(textposition='inside', textinfo='percent')\n",
    "fig.show()"
   ]
  },
  {
   "cell_type": "code",
   "execution_count": null,
   "metadata": {},
   "outputs": [],
   "source": [
    "import plotly.figure_factory as ff\n",
    "import numpy as np\n",
    "\n",
    "x0 = np.array(df.loc[df.district=='Bonfim']['price'])\n",
    "x1 = np.array(df.loc[df.district=='Campanhã']['price'])\n",
    "x2 = np.array(df.loc[df.district=='Lordelo do Ouro e Massarelos']['price'])\n",
    "x3 = np.array(df.loc[df.district=='Cedofeita, Santo Ildefonso, Sé, Miragaia, São Nicolau e Vitória']['price'])\n",
    "x4 = np.array(df.loc[df.district=='Bonfim']['price'])\n",
    "\n",
    "hist_data = [x0,x1,x2,x3,x4]\n",
    "\n",
    "group_labels = (['Bonfim', 'Campanhã','Lordelo do Ouro e Massarelos',\n",
    "                'Cedofeita, (...) e Vitória','Bonfim' ])\n",
    "\n",
    "colors = ['#835AF1', '#7FA6EE', '#B8F7D4','#2BCDC1', '#F66095']\n",
    "\n",
    "# Create distplot with curve_type set to 'normal'\n",
    "fig = ff.create_distplot(hist_data, group_labels, bin_size=10000, colors=colors)\n",
    "\n",
    "# Add title\n",
    "fig.update(layout_title_text='price Distribution on flats offers in Porto Downtown')\n",
    "fig.show()"
   ]
  },
  {
   "cell_type": "code",
   "execution_count": null,
   "metadata": {},
   "outputs": [],
   "source": [
    "import plotly.express as px\n",
    "\n",
    "\n",
    "\n",
    "fig = px.histogram(df, x=\"price\",  color=\"district\",\n",
    "                   marginal=\"box\")#, # or violin, rug\n",
    "                   #hover_data=[e.price,e.areau])\n",
    "fig.show()"
   ]
  },
  {
   "cell_type": "code",
   "execution_count": null,
   "metadata": {},
   "outputs": [],
   "source": []
  }
 ],
 "metadata": {
  "kernelspec": {
   "display_name": "Python 3",
   "language": "python",
   "name": "python3"
  },
  "language_info": {
   "codemirror_mode": {
    "name": "ipython",
    "version": 3
   },
   "file_extension": ".py",
   "mimetype": "text/x-python",
   "name": "python",
   "nbconvert_exporter": "python",
   "pygments_lexer": "ipython3",
   "version": "3.8.3"
  }
 },
 "nbformat": 4,
 "nbformat_minor": 4
}
