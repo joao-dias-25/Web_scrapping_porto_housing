{
 "cells": [
  {
   "cell_type": "code",
   "execution_count": 143,
   "metadata": {},
   "outputs": [],
   "source": [
    "import pandas as pd"
   ]
  },
  {
   "cell_type": "code",
   "execution_count": 144,
   "metadata": {},
   "outputs": [],
   "source": [
    "df=pd.read_csv('../final.csv')"
   ]
  },
  {
   "cell_type": "code",
   "execution_count": 145,
   "metadata": {},
   "outputs": [
    {
     "data": {
      "text/plain": [
       "Index(['Empree', 'Tipolo', 'address', 'agency', 'ano', 'areab', 'areau',\n",
       "       'certif', 'creation_date', 'descricao', 'estado', 'from_agency', 'id',\n",
       "       'link', 'modified_date', 'price', 'title', 'wc'],\n",
       "      dtype='object')"
      ]
     },
     "execution_count": 145,
     "metadata": {},
     "output_type": "execute_result"
    }
   ],
   "source": [
    "df.columns"
   ]
  },
  {
   "cell_type": "code",
   "execution_count": 146,
   "metadata": {},
   "outputs": [
    {
     "data": {
      "text/plain": [
       "T1                 4044\n",
       "T2                 3151\n",
       "T3                 2001\n",
       "T0                 1465\n",
       "T4                 1117\n",
       "T5                 179 \n",
       "T6                 16  \n",
       "T10 ou superior    4   \n",
       "T9                 2   \n",
       "T7                 1   \n",
       "Name: Tipolo, dtype: int64"
      ]
     },
     "execution_count": 146,
     "metadata": {},
     "output_type": "execute_result"
    }
   ],
   "source": [
    "df.Tipolo.value_counts()"
   ]
  },
  {
   "cell_type": "code",
   "execution_count": 147,
   "metadata": {},
   "outputs": [],
   "source": [
    "# cleaning numbers columns\n",
    "def numbers_float(series):\n",
    "    new=series.str.replace(r'[\\s+A-zç+€''²\\n]', '')\n",
    "    new=new.replace('',None)\n",
    "    new=new.str.replace(',','.')\n",
    "    \n",
    "    new=new.astype(float)\n",
    "    return new"
   ]
  },
  {
   "cell_type": "code",
   "execution_count": 148,
   "metadata": {},
   "outputs": [],
   "source": [
    "df.price=numbers_float(df.price)"
   ]
  },
  {
   "cell_type": "code",
   "execution_count": 149,
   "metadata": {},
   "outputs": [],
   "source": [
    "df.wc=numbers_float(df.wc)"
   ]
  },
  {
   "cell_type": "code",
   "execution_count": 150,
   "metadata": {},
   "outputs": [],
   "source": [
    "df.areau=numbers_float(df.areau)"
   ]
  },
  {
   "cell_type": "code",
   "execution_count": 151,
   "metadata": {},
   "outputs": [],
   "source": [
    "df.areab=numbers_float(df.areab)"
   ]
  },
  {
   "cell_type": "code",
   "execution_count": 152,
   "metadata": {},
   "outputs": [],
   "source": [
    "df.Tipolo=numbers_float(df.Tipolo)"
   ]
  },
  {
   "cell_type": "code",
   "execution_count": 153,
   "metadata": {},
   "outputs": [
    {
     "data": {
      "text/html": [
       "<div>\n",
       "<style scoped>\n",
       "    .dataframe tbody tr th:only-of-type {\n",
       "        vertical-align: middle;\n",
       "    }\n",
       "\n",
       "    .dataframe tbody tr th {\n",
       "        vertical-align: top;\n",
       "    }\n",
       "\n",
       "    .dataframe thead th {\n",
       "        text-align: right;\n",
       "    }\n",
       "</style>\n",
       "<table border=\"1\" class=\"dataframe\">\n",
       "  <thead>\n",
       "    <tr style=\"text-align: right;\">\n",
       "      <th></th>\n",
       "      <th>Tipolo</th>\n",
       "      <th>ano</th>\n",
       "      <th>areab</th>\n",
       "      <th>areau</th>\n",
       "      <th>price</th>\n",
       "      <th>wc</th>\n",
       "    </tr>\n",
       "  </thead>\n",
       "  <tbody>\n",
       "    <tr>\n",
       "      <th>count</th>\n",
       "      <td>11980.000000</td>\n",
       "      <td>5029.000000</td>\n",
       "      <td>8261.000000</td>\n",
       "      <td>11981.000000</td>\n",
       "      <td>1.198100e+04</td>\n",
       "      <td>9925.000000</td>\n",
       "    </tr>\n",
       "    <tr>\n",
       "      <th>mean</th>\n",
       "      <td>1.825793</td>\n",
       "      <td>2011.263273</td>\n",
       "      <td>113.275870</td>\n",
       "      <td>162.476288</td>\n",
       "      <td>3.141979e+05</td>\n",
       "      <td>1.778136</td>\n",
       "    </tr>\n",
       "    <tr>\n",
       "      <th>std</th>\n",
       "      <td>1.234485</td>\n",
       "      <td>49.549372</td>\n",
       "      <td>211.309228</td>\n",
       "      <td>6725.915862</td>\n",
       "      <td>2.279589e+05</td>\n",
       "      <td>0.931958</td>\n",
       "    </tr>\n",
       "    <tr>\n",
       "      <th>min</th>\n",
       "      <td>0.000000</td>\n",
       "      <td>30.000000</td>\n",
       "      <td>0.840000</td>\n",
       "      <td>1.000000</td>\n",
       "      <td>2.000000e+00</td>\n",
       "      <td>1.000000</td>\n",
       "    </tr>\n",
       "    <tr>\n",
       "      <th>25%</th>\n",
       "      <td>1.000000</td>\n",
       "      <td>2013.000000</td>\n",
       "      <td>56.000000</td>\n",
       "      <td>50.000000</td>\n",
       "      <td>1.740000e+05</td>\n",
       "      <td>1.000000</td>\n",
       "    </tr>\n",
       "    <tr>\n",
       "      <th>50%</th>\n",
       "      <td>2.000000</td>\n",
       "      <td>2020.000000</td>\n",
       "      <td>90.000000</td>\n",
       "      <td>76.500000</td>\n",
       "      <td>2.490000e+05</td>\n",
       "      <td>1.000000</td>\n",
       "    </tr>\n",
       "    <tr>\n",
       "      <th>75%</th>\n",
       "      <td>3.000000</td>\n",
       "      <td>2020.000000</td>\n",
       "      <td>140.500000</td>\n",
       "      <td>116.000000</td>\n",
       "      <td>3.700000e+05</td>\n",
       "      <td>2.000000</td>\n",
       "    </tr>\n",
       "    <tr>\n",
       "      <th>max</th>\n",
       "      <td>10.000000</td>\n",
       "      <td>2022.000000</td>\n",
       "      <td>14911.000000</td>\n",
       "      <td>731000.000000</td>\n",
       "      <td>3.500000e+06</td>\n",
       "      <td>4.000000</td>\n",
       "    </tr>\n",
       "  </tbody>\n",
       "</table>\n",
       "</div>"
      ],
      "text/plain": [
       "             Tipolo          ano         areab          areau         price  \\\n",
       "count  11980.000000  5029.000000  8261.000000   11981.000000   1.198100e+04   \n",
       "mean   1.825793      2011.263273  113.275870    162.476288     3.141979e+05   \n",
       "std    1.234485      49.549372    211.309228    6725.915862    2.279589e+05   \n",
       "min    0.000000      30.000000    0.840000      1.000000       2.000000e+00   \n",
       "25%    1.000000      2013.000000  56.000000     50.000000      1.740000e+05   \n",
       "50%    2.000000      2020.000000  90.000000     76.500000      2.490000e+05   \n",
       "75%    3.000000      2020.000000  140.500000    116.000000     3.700000e+05   \n",
       "max    10.000000     2022.000000  14911.000000  731000.000000  3.500000e+06   \n",
       "\n",
       "                wc  \n",
       "count  9925.000000  \n",
       "mean   1.778136     \n",
       "std    0.931958     \n",
       "min    1.000000     \n",
       "25%    1.000000     \n",
       "50%    1.000000     \n",
       "75%    2.000000     \n",
       "max    4.000000     "
      ]
     },
     "execution_count": 153,
     "metadata": {},
     "output_type": "execute_result"
    }
   ],
   "source": [
    "df.describe()"
   ]
  },
  {
   "cell_type": "code",
   "execution_count": 154,
   "metadata": {},
   "outputs": [
    {
     "data": {
      "text/plain": [
       "Empree           2271\n",
       "Tipolo           1   \n",
       "address          0   \n",
       "agency           172 \n",
       "ano              6952\n",
       "areab            3720\n",
       "areau            0   \n",
       "certif           5425\n",
       "creation_date    0   \n",
       "descricao        775 \n",
       "estado           1419\n",
       "from_agency      0   \n",
       "id               0   \n",
       "link             0   \n",
       "modified_date    0   \n",
       "price            0   \n",
       "title            0   \n",
       "wc               2056\n",
       "dtype: int64"
      ]
     },
     "execution_count": 154,
     "metadata": {},
     "output_type": "execute_result"
    }
   ],
   "source": [
    "df.isnull().sum()"
   ]
  },
  {
   "cell_type": "code",
   "execution_count": 155,
   "metadata": {},
   "outputs": [],
   "source": [
    "import datetime\n",
    "\n",
    "def datas(series):\n",
    "    d=series.str.replace('Data de modificação: há ', '')\n",
    "    d=d.str.replace('aproximadamente ', '')\n",
    "    d=d.str.replace('quase ', '')\n",
    "    d=d.str.replace('Data de criação: há ', '')\n",
    "    d=d.str.replace('mais de ', '')\n",
    "    d=d.str.replace('anos', 'Y')\n",
    "    d=d.str.replace('ano', 'Y')\n",
    "    d=d.str.replace('meses', 'M')\n",
    "    d=d.str.replace('mês', 'M')\n",
    "    d=d.str.replace('dias', 'D')\n",
    "    d=d.str.replace('dia', 'D')    \n",
    "    d=d.str.replace('horas', 'H')\n",
    "    d=d.str.replace('hora', 'H')    \n",
    "    d=d.str.replace('minutos', 'm')\n",
    "    d=d.str.replace('minuto', 'm')    \n",
    "    \n",
    "    return d\n",
    "    "
   ]
  },
  {
   "cell_type": "code",
   "execution_count": 156,
   "metadata": {},
   "outputs": [],
   "source": [
    "df.modified_date=datas(df.modified_date)"
   ]
  },
  {
   "cell_type": "code",
   "execution_count": 157,
   "metadata": {},
   "outputs": [],
   "source": [
    "df.modified_date=pd.to_timedelta(df.modified_date)"
   ]
  },
  {
   "cell_type": "code",
   "execution_count": 158,
   "metadata": {},
   "outputs": [],
   "source": [
    "df[['time','unit']] = datas(df.creation_date).str.split(expand=True)"
   ]
  },
  {
   "cell_type": "code",
   "execution_count": 159,
   "metadata": {},
   "outputs": [],
   "source": [
    "df.time=df.time.astype(int)"
   ]
  },
  {
   "cell_type": "code",
   "execution_count": 160,
   "metadata": {},
   "outputs": [],
   "source": [
    "df.unit=df.unit.replace({'Y': 365, 'M': 30, 'D':1, 'H':1/24, 'm':1/24/60})"
   ]
  },
  {
   "cell_type": "code",
   "execution_count": 161,
   "metadata": {},
   "outputs": [],
   "source": [
    "df.creation_date=df.unit*df.time"
   ]
  },
  {
   "cell_type": "code",
   "execution_count": 162,
   "metadata": {},
   "outputs": [
    {
     "data": {
      "text/plain": [
       "0        365.000000\n",
       "1        0.666667  \n",
       "2        0.791667  \n",
       "3        365.000000\n",
       "4        120.000000\n",
       "            ...    \n",
       "11976    120.000000\n",
       "11977    120.000000\n",
       "11978    120.000000\n",
       "11979    270.000000\n",
       "11980    120.000000\n",
       "Name: creation_date, Length: 11981, dtype: float64"
      ]
     },
     "execution_count": 162,
     "metadata": {},
     "output_type": "execute_result"
    }
   ],
   "source": [
    "df.creation_date"
   ]
  },
  {
   "cell_type": "code",
   "execution_count": 163,
   "metadata": {},
   "outputs": [
    {
     "data": {
      "text/plain": [
       "8 days 00:00:00     1116\n",
       "11 days 00:00:00    1032\n",
       "3 days 00:00:00     976 \n",
       "24 days 00:00:00    765 \n",
       "12 days 00:00:00    584 \n",
       "                   ...  \n",
       "0 days 00:18:00     1   \n",
       "0 days 08:00:00     1   \n",
       "0 days 00:15:00     1   \n",
       "0 days 00:12:00     1   \n",
       "0 days 00:19:00     1   \n",
       "Name: modified_date, Length: 66, dtype: int64"
      ]
     },
     "execution_count": 163,
     "metadata": {},
     "output_type": "execute_result"
    }
   ],
   "source": [
    "df.modified_date.value_counts()"
   ]
  },
  {
   "cell_type": "code",
   "execution_count": 164,
   "metadata": {},
   "outputs": [
    {
     "data": {
      "text/plain": [
       "165      https://www.imovirtual.com/anuncio/t3-c-terraco-de-743m2-em-cond-fechado-ID13009.html                        \n",
       "1761     https://www.imovirtual.com/anuncio/apartamento-t2-com-varanda-na-campanha-porto-ID10UFZ.html                 \n",
       "2149     https://www.imovirtual.com/anuncio/apartamento-t2-novo-proximo-da-avenida-fernao-magalhaes-antas-ID14vWL.html\n",
       "6365     https://www.imovirtual.com/anuncio/t2-paranhos-ID145Rz.html                                                  \n",
       "7341     https://www.imovirtual.com/anuncio/to-buy-compra-apartamento-t2-1-triplex-IDV5eC.html                        \n",
       "7831     https://www.imovirtual.com/anuncio/imovel-centro-do-porto-IDZFmb.html                                        \n",
       "8119     https://www.imovirtual.com/anuncio/apartamento-t2-duplex-ribeira-porto-ID13Kxc.html                          \n",
       "8892     https://www.imovirtual.com/anuncio/moradias-antigas-c-projeto-para-7-apartamentos-portugal-porto-ID10kGG.html\n",
       "8894     https://www.imovirtual.com/anuncio/predio-antigo-para-apartamentos-portugal-porto-ID10kFC.html               \n",
       "9171     https://www.imovirtual.com/anuncio/edificio-habitacional-apartamentos-t3-ID13kEt.html                        \n",
       "9835     https://www.imovirtual.com/anuncio/apartamento-t4-venda-porto-IDOCJ4.html                                    \n",
       "11298    https://www.imovirtual.com/anuncio/predio-para-reconstruir-em-rua-historica-do-porto-ID11aPg.html            \n",
       "Name: link, dtype: object"
      ]
     },
     "execution_count": 164,
     "metadata": {},
     "output_type": "execute_result"
    }
   ],
   "source": [
    "pd.set_option('display.max_colwidth',0)\n",
    "\n",
    "df.loc[df.areau>600]['link']"
   ]
  },
  {
   "cell_type": "code",
   "execution_count": 165,
   "metadata": {},
   "outputs": [],
   "source": [
    "df=df.drop(df.loc[df.areau>1000].index)"
   ]
  },
  {
   "cell_type": "code",
   "execution_count": 166,
   "metadata": {},
   "outputs": [
    {
     "data": {
      "image/png": "[encoded data removed]",
      "text/plain": [
       "<Figure size 432x288 with 1 Axes>"
      ]
     },
     "metadata": {
      "needs_background": "light"
     },
     "output_type": "display_data"
    }
   ],
   "source": [
    "import seaborn as sns\n",
    "import matplotlib.pyplot as plt\n",
    "ax = sns.distplot(df.areau)"
   ]
  },
  {
   "cell_type": "code",
   "execution_count": 188,
   "metadata": {},
   "outputs": [
    {
     "data": {
      "image/png": "[encoded data removed]",
      "text/plain": [
       "<Figure size 1008x432 with 1 Axes>"
      ]
     },
     "metadata": {
      "needs_background": "light"
     },
     "output_type": "display_data"
    }
   ],
   "source": [
    "f, ax = plt.subplots(figsize=(14, 6))\n",
    "ax = sns.distplot(df.price)\n"
   ]
  },
  {
   "cell_type": "code",
   "execution_count": null,
   "metadata": {},
   "outputs": [],
   "source": []
  },
  {
   "cell_type": "code",
   "execution_count": 168,
   "metadata": {},
   "outputs": [],
   "source": [
    "df.modified_date=df.modified_date.apply(lambda x: x.days+x.seconds/3600/24)"
   ]
  },
  {
   "cell_type": "code",
   "execution_count": 169,
   "metadata": {},
   "outputs": [
    {
     "data": {
      "image/png": "[encoded data removed]",
      "text/plain": [
       "<Figure size 1008x432 with 1 Axes>"
      ]
     },
     "metadata": {
      "needs_background": "light"
     },
     "output_type": "display_data"
    }
   ],
   "source": [
    "f, ax = plt.subplots(figsize=(14, 6))\n",
    "ax = sns.distplot(df.modified_date, bins=30)"
   ]
  },
  {
   "cell_type": "code",
   "execution_count": 181,
   "metadata": {},
   "outputs": [
    {
     "data": {
      "image/png": "[encoded data removed]",
      "text/plain": [
       "<Figure size 1008x432 with 1 Axes>"
      ]
     },
     "metadata": {
      "needs_background": "light"
     },
     "output_type": "display_data"
    }
   ],
   "source": [
    "f, ax = plt.subplots(figsize=(14, 6))\n",
    "ax = sns.distplot(df.creation_date, rug=True)\n",
    "#ax.set_xscale('log')"
   ]
  },
  {
   "cell_type": "code",
   "execution_count": 185,
   "metadata": {},
   "outputs": [
    {
     "data": {
      "text/plain": [
       "2703     https://www.imovirtual.com/anuncio/t3-duplex-em-construcao-no-bonfim-com-lugar-de-garagem-IDBGov.html           \n",
       "3172     https://www.imovirtual.com/anuncio/apartamento-t1-duplex-na-melhor-zona-turistica-da-baixa-do-porto-IDquoE.html \n",
       "3175     https://www.imovirtual.com/anuncio/ref2797-t1-t1-rua-prof-antonio-cruz-porto-park-i-IDD7S6.html                 \n",
       "3896     https://www.imovirtual.com/anuncio/ref2638-t4-duplex-h-s-joao-ipo-IDzvmR.html                                   \n",
       "3962     https://www.imovirtual.com/anuncio/ref2420-t4-rua-dr-eduardo-santos-silva-paranhos-IDpmRy.html                  \n",
       "4467     https://www.imovirtual.com/anuncio/t1-duplex-c-terraco-de-20-m2-nos-studios-residence-dragao-IDCBdu.html        \n",
       "6289     https://www.imovirtual.com/anuncio/apartamento-t0-1-ultimo-andar-baixa-da-cidade-do-porto-IDCOuj.html           \n",
       "6935     https://www.imovirtual.com/anuncio/moradia-moradia-apalacada-na-foz-do-douro-IDqBKM.html                        \n",
       "6936     https://www.imovirtual.com/anuncio/porto-contumil-alameda-IDoMBq.html                                           \n",
       "6938     https://www.imovirtual.com/anuncio/t4-novo-duplex-com-terraco-IDsdB4.html                                       \n",
       "6939     https://www.imovirtual.com/anuncio/excelente-t3-em-serralves-IDr2T0.html                                        \n",
       "6940     https://www.imovirtual.com/anuncio/ref2576-t4-avenida-da-boavista-IDsp06.html                                   \n",
       "7385     https://www.imovirtual.com/anuncio/t2-2-com-terraco-proximo-ao-metro-porto-paranhos-IDD8Kl.html                 \n",
       "7954     https://www.imovirtual.com/anuncio/t1-totalmente-recuperado-costa-cabral-5023-IDdRHi.html                       \n",
       "7955     https://www.imovirtual.com/anuncio/porto-alameda-dragao-IDoMC0.html                                             \n",
       "7956     https://www.imovirtual.com/anuncio/t1-trindade-com-varanda-mobilado-baixa-do-porto-IDA8Z3.html                  \n",
       "7957     https://www.imovirtual.com/anuncio/t0-duplex-no-centro-do-porto-IDAswE.html                                     \n",
       "7963     https://www.imovirtual.com/anuncio/excelente-t2-no-centro-do-porto-proximo-a-praca-da-republica-IDD5qH.html     \n",
       "8462     https://www.imovirtual.com/anuncio/t1-com-45-m2-mais-16-m2-de-varanda-na-baixa-do-porto-IDBcMb.html             \n",
       "8997     https://www.imovirtual.com/anuncio/t3-1-novo-na-marginal-do-rio-douro-ID6Ned.html                               \n",
       "8998     https://www.imovirtual.com/anuncio/moradia-av-franca-porto-IDsvok.html                                          \n",
       "8999     https://www.imovirtual.com/anuncio/t5-novo-na-marginal-do-rio-douro-ID6N8H.html                                 \n",
       "9000     https://www.imovirtual.com/anuncio/apartamentos-t5-de-arquitectura-moderna-com-327m2-na-1-linha-do-IDAsiG.html  \n",
       "9002     https://www.imovirtual.com/anuncio/apartamentos-t4-1-duplex-de-arquitectura-moderna-com-349m2-na-1-IDAsiD.html  \n",
       "9004     https://www.imovirtual.com/anuncio/ref2712-t0-alameda-eca-queiros-IDBciz.html                                   \n",
       "9005     https://www.imovirtual.com/anuncio/excelente-t3-foz-como-novo-IDD77m.html                                       \n",
       "9038     https://www.imovirtual.com/anuncio/t0-totalmente-remodelado-porto-ao-metro-IDBI8X.html                          \n",
       "9465     https://www.imovirtual.com/anuncio/apartamento-t0-mobilado-e-equipado-porto-IDD4ox.html                         \n",
       "9467     https://www.imovirtual.com/anuncio/t1-jardim-da-cordoaria-h-santo-antonio-IDD7aE.html                           \n",
       "9468     https://www.imovirtual.com/anuncio/ref2584-t2-2-duplex-quinta-do-covelo-paranhos-IDstFV.html                    \n",
       "9470     https://www.imovirtual.com/anuncio/t2-cobertura-sobre-jardim-da-cordoaria-IDD7bh.html                           \n",
       "9488     https://www.imovirtual.com/anuncio/apartamento-t0-studios-residence-no-dragao-IDp6QC.html                       \n",
       "10755    https://www.imovirtual.com/anuncio/t1-1-kit-novo-em-construcao-porto-IDCk9m.html                                \n",
       "10765    https://www.imovirtual.com/anuncio/t0-c-terraco-de-16-m2-reabilitado-aos-poveiros-no-porto-IDAZ14.html          \n",
       "11276    https://www.imovirtual.com/anuncio/cobertura-t4-IDD2mW.html                                                     \n",
       "11343    https://www.imovirtual.com/anuncio/t0-a-ribeira-baixa-do-porto-IDA92D.html                                      \n",
       "11377    https://www.imovirtual.com/anuncio/t1-duplex-com-varanda-na-baixa-do-porto-em-construcao-conclusao-p-IDCVC1.html\n",
       "11424    https://www.imovirtual.com/anuncio/t4-em-construcao-IDD2m3.html                                                 \n",
       "11625    https://www.imovirtual.com/anuncio/apartamento-t1-duplex-mezanine-bonfim-porto-IDBkwB.html                      \n",
       "11665    https://www.imovirtual.com/anuncio/2-x-t1-duplex-com-terraco-junto-ao-metro-do-heroismo-IDAS7L.html             \n",
       "11808    https://www.imovirtual.com/anuncio/apartamento-IDD9SK.html                                                      \n",
       "11837    https://www.imovirtual.com/anuncio/excelente-t1-1-cedofeita-IDBJNG.html                                         \n",
       "11838    https://www.imovirtual.com/anuncio/t1-mezzanine-novo-ao-centro-do-porto-IDD9T2.html                             \n",
       "11840    https://www.imovirtual.com/anuncio/t1-centro-do-porto-IDBJ40.html                                               \n",
       "Name: link, dtype: object"
      ]
     },
     "execution_count": 185,
     "metadata": {},
     "output_type": "execute_result"
    }
   ],
   "source": [
    "pd.set_option('display.max_colwidth',0)\n",
    "\n",
    "df.loc[df.creation_date>1000]['link']"
   ]
  },
  {
   "cell_type": "code",
   "execution_count": 186,
   "metadata": {},
   "outputs": [
    {
     "data": {
      "text/html": [
       "<div>\n",
       "<style scoped>\n",
       "    .dataframe tbody tr th:only-of-type {\n",
       "        vertical-align: middle;\n",
       "    }\n",
       "\n",
       "    .dataframe tbody tr th {\n",
       "        vertical-align: top;\n",
       "    }\n",
       "\n",
       "    .dataframe thead th {\n",
       "        text-align: right;\n",
       "    }\n",
       "</style>\n",
       "<table border=\"1\" class=\"dataframe\">\n",
       "  <thead>\n",
       "    <tr style=\"text-align: right;\">\n",
       "      <th></th>\n",
       "      <th>link</th>\n",
       "      <th>price</th>\n",
       "    </tr>\n",
       "  </thead>\n",
       "  <tbody>\n",
       "    <tr>\n",
       "      <th>2703</th>\n",
       "      <td>https://www.imovirtual.com/anuncio/t3-duplex-em-construcao-no-bonfim-com-lugar-de-garagem-IDBGov.html</td>\n",
       "      <td>400000.0</td>\n",
       "    </tr>\n",
       "    <tr>\n",
       "      <th>3172</th>\n",
       "      <td>https://www.imovirtual.com/anuncio/apartamento-t1-duplex-na-melhor-zona-turistica-da-baixa-do-porto-IDquoE.html</td>\n",
       "      <td>385000.0</td>\n",
       "    </tr>\n",
       "    <tr>\n",
       "      <th>3175</th>\n",
       "      <td>https://www.imovirtual.com/anuncio/ref2797-t1-t1-rua-prof-antonio-cruz-porto-park-i-IDD7S6.html</td>\n",
       "      <td>200000.0</td>\n",
       "    </tr>\n",
       "    <tr>\n",
       "      <th>3896</th>\n",
       "      <td>https://www.imovirtual.com/anuncio/ref2638-t4-duplex-h-s-joao-ipo-IDzvmR.html</td>\n",
       "      <td>425000.0</td>\n",
       "    </tr>\n",
       "    <tr>\n",
       "      <th>3962</th>\n",
       "      <td>https://www.imovirtual.com/anuncio/ref2420-t4-rua-dr-eduardo-santos-silva-paranhos-IDpmRy.html</td>\n",
       "      <td>300000.0</td>\n",
       "    </tr>\n",
       "    <tr>\n",
       "      <th>4467</th>\n",
       "      <td>https://www.imovirtual.com/anuncio/t1-duplex-c-terraco-de-20-m2-nos-studios-residence-dragao-IDCBdu.html</td>\n",
       "      <td>195000.0</td>\n",
       "    </tr>\n",
       "    <tr>\n",
       "      <th>6289</th>\n",
       "      <td>https://www.imovirtual.com/anuncio/apartamento-t0-1-ultimo-andar-baixa-da-cidade-do-porto-IDCOuj.html</td>\n",
       "      <td>170000.0</td>\n",
       "    </tr>\n",
       "    <tr>\n",
       "      <th>6935</th>\n",
       "      <td>https://www.imovirtual.com/anuncio/moradia-moradia-apalacada-na-foz-do-douro-IDqBKM.html</td>\n",
       "      <td>2200000.0</td>\n",
       "    </tr>\n",
       "    <tr>\n",
       "      <th>6936</th>\n",
       "      <td>https://www.imovirtual.com/anuncio/porto-contumil-alameda-IDoMBq.html</td>\n",
       "      <td>270000.0</td>\n",
       "    </tr>\n",
       "    <tr>\n",
       "      <th>6938</th>\n",
       "      <td>https://www.imovirtual.com/anuncio/t4-novo-duplex-com-terraco-IDsdB4.html</td>\n",
       "      <td>587800.0</td>\n",
       "    </tr>\n",
       "    <tr>\n",
       "      <th>6939</th>\n",
       "      <td>https://www.imovirtual.com/anuncio/excelente-t3-em-serralves-IDr2T0.html</td>\n",
       "      <td>480000.0</td>\n",
       "    </tr>\n",
       "    <tr>\n",
       "      <th>6940</th>\n",
       "      <td>https://www.imovirtual.com/anuncio/ref2576-t4-avenida-da-boavista-IDsp06.html</td>\n",
       "      <td>600500.0</td>\n",
       "    </tr>\n",
       "    <tr>\n",
       "      <th>7385</th>\n",
       "      <td>https://www.imovirtual.com/anuncio/t2-2-com-terraco-proximo-ao-metro-porto-paranhos-IDD8Kl.html</td>\n",
       "      <td>165000.0</td>\n",
       "    </tr>\n",
       "    <tr>\n",
       "      <th>7954</th>\n",
       "      <td>https://www.imovirtual.com/anuncio/t1-totalmente-recuperado-costa-cabral-5023-IDdRHi.html</td>\n",
       "      <td>125000.0</td>\n",
       "    </tr>\n",
       "    <tr>\n",
       "      <th>7955</th>\n",
       "      <td>https://www.imovirtual.com/anuncio/porto-alameda-dragao-IDoMC0.html</td>\n",
       "      <td>350000.0</td>\n",
       "    </tr>\n",
       "    <tr>\n",
       "      <th>7956</th>\n",
       "      <td>https://www.imovirtual.com/anuncio/t1-trindade-com-varanda-mobilado-baixa-do-porto-IDA8Z3.html</td>\n",
       "      <td>240000.0</td>\n",
       "    </tr>\n",
       "    <tr>\n",
       "      <th>7957</th>\n",
       "      <td>https://www.imovirtual.com/anuncio/t0-duplex-no-centro-do-porto-IDAswE.html</td>\n",
       "      <td>159500.0</td>\n",
       "    </tr>\n",
       "    <tr>\n",
       "      <th>7963</th>\n",
       "      <td>https://www.imovirtual.com/anuncio/excelente-t2-no-centro-do-porto-proximo-a-praca-da-republica-IDD5qH.html</td>\n",
       "      <td>320000.0</td>\n",
       "    </tr>\n",
       "    <tr>\n",
       "      <th>8462</th>\n",
       "      <td>https://www.imovirtual.com/anuncio/t1-com-45-m2-mais-16-m2-de-varanda-na-baixa-do-porto-IDBcMb.html</td>\n",
       "      <td>185000.0</td>\n",
       "    </tr>\n",
       "    <tr>\n",
       "      <th>8997</th>\n",
       "      <td>https://www.imovirtual.com/anuncio/t3-1-novo-na-marginal-do-rio-douro-ID6Ned.html</td>\n",
       "      <td>780000.0</td>\n",
       "    </tr>\n",
       "    <tr>\n",
       "      <th>8998</th>\n",
       "      <td>https://www.imovirtual.com/anuncio/moradia-av-franca-porto-IDsvok.html</td>\n",
       "      <td>550000.0</td>\n",
       "    </tr>\n",
       "    <tr>\n",
       "      <th>8999</th>\n",
       "      <td>https://www.imovirtual.com/anuncio/t5-novo-na-marginal-do-rio-douro-ID6N8H.html</td>\n",
       "      <td>1050000.0</td>\n",
       "    </tr>\n",
       "    <tr>\n",
       "      <th>9000</th>\n",
       "      <td>https://www.imovirtual.com/anuncio/apartamentos-t5-de-arquitectura-moderna-com-327m2-na-1-linha-do-IDAsiG.html</td>\n",
       "      <td>1050000.0</td>\n",
       "    </tr>\n",
       "    <tr>\n",
       "      <th>9002</th>\n",
       "      <td>https://www.imovirtual.com/anuncio/apartamentos-t4-1-duplex-de-arquitectura-moderna-com-349m2-na-1-IDAsiD.html</td>\n",
       "      <td>1200000.0</td>\n",
       "    </tr>\n",
       "    <tr>\n",
       "      <th>9004</th>\n",
       "      <td>https://www.imovirtual.com/anuncio/ref2712-t0-alameda-eca-queiros-IDBciz.html</td>\n",
       "      <td>125000.0</td>\n",
       "    </tr>\n",
       "    <tr>\n",
       "      <th>9005</th>\n",
       "      <td>https://www.imovirtual.com/anuncio/excelente-t3-foz-como-novo-IDD77m.html</td>\n",
       "      <td>900000.0</td>\n",
       "    </tr>\n",
       "    <tr>\n",
       "      <th>9038</th>\n",
       "      <td>https://www.imovirtual.com/anuncio/t0-totalmente-remodelado-porto-ao-metro-IDBI8X.html</td>\n",
       "      <td>140000.0</td>\n",
       "    </tr>\n",
       "    <tr>\n",
       "      <th>9465</th>\n",
       "      <td>https://www.imovirtual.com/anuncio/apartamento-t0-mobilado-e-equipado-porto-IDD4ox.html</td>\n",
       "      <td>180000.0</td>\n",
       "    </tr>\n",
       "    <tr>\n",
       "      <th>9467</th>\n",
       "      <td>https://www.imovirtual.com/anuncio/t1-jardim-da-cordoaria-h-santo-antonio-IDD7aE.html</td>\n",
       "      <td>199900.0</td>\n",
       "    </tr>\n",
       "    <tr>\n",
       "      <th>9468</th>\n",
       "      <td>https://www.imovirtual.com/anuncio/ref2584-t2-2-duplex-quinta-do-covelo-paranhos-IDstFV.html</td>\n",
       "      <td>165000.0</td>\n",
       "    </tr>\n",
       "    <tr>\n",
       "      <th>9470</th>\n",
       "      <td>https://www.imovirtual.com/anuncio/t2-cobertura-sobre-jardim-da-cordoaria-IDD7bh.html</td>\n",
       "      <td>320000.0</td>\n",
       "    </tr>\n",
       "    <tr>\n",
       "      <th>9488</th>\n",
       "      <td>https://www.imovirtual.com/anuncio/apartamento-t0-studios-residence-no-dragao-IDp6QC.html</td>\n",
       "      <td>130000.0</td>\n",
       "    </tr>\n",
       "    <tr>\n",
       "      <th>10755</th>\n",
       "      <td>https://www.imovirtual.com/anuncio/t1-1-kit-novo-em-construcao-porto-IDCk9m.html</td>\n",
       "      <td>275000.0</td>\n",
       "    </tr>\n",
       "    <tr>\n",
       "      <th>10765</th>\n",
       "      <td>https://www.imovirtual.com/anuncio/t0-c-terraco-de-16-m2-reabilitado-aos-poveiros-no-porto-IDAZ14.html</td>\n",
       "      <td>140000.0</td>\n",
       "    </tr>\n",
       "    <tr>\n",
       "      <th>11276</th>\n",
       "      <td>https://www.imovirtual.com/anuncio/cobertura-t4-IDD2mW.html</td>\n",
       "      <td>1750000.0</td>\n",
       "    </tr>\n",
       "    <tr>\n",
       "      <th>11343</th>\n",
       "      <td>https://www.imovirtual.com/anuncio/t0-a-ribeira-baixa-do-porto-IDA92D.html</td>\n",
       "      <td>230000.0</td>\n",
       "    </tr>\n",
       "    <tr>\n",
       "      <th>11377</th>\n",
       "      <td>https://www.imovirtual.com/anuncio/t1-duplex-com-varanda-na-baixa-do-porto-em-construcao-conclusao-p-IDCVC1.html</td>\n",
       "      <td>196000.0</td>\n",
       "    </tr>\n",
       "    <tr>\n",
       "      <th>11424</th>\n",
       "      <td>https://www.imovirtual.com/anuncio/t4-em-construcao-IDD2m3.html</td>\n",
       "      <td>670000.0</td>\n",
       "    </tr>\n",
       "    <tr>\n",
       "      <th>11625</th>\n",
       "      <td>https://www.imovirtual.com/anuncio/apartamento-t1-duplex-mezanine-bonfim-porto-IDBkwB.html</td>\n",
       "      <td>175000.0</td>\n",
       "    </tr>\n",
       "    <tr>\n",
       "      <th>11665</th>\n",
       "      <td>https://www.imovirtual.com/anuncio/2-x-t1-duplex-com-terraco-junto-ao-metro-do-heroismo-IDAS7L.html</td>\n",
       "      <td>240000.0</td>\n",
       "    </tr>\n",
       "    <tr>\n",
       "      <th>11808</th>\n",
       "      <td>https://www.imovirtual.com/anuncio/apartamento-IDD9SK.html</td>\n",
       "      <td>110000.0</td>\n",
       "    </tr>\n",
       "    <tr>\n",
       "      <th>11837</th>\n",
       "      <td>https://www.imovirtual.com/anuncio/excelente-t1-1-cedofeita-IDBJNG.html</td>\n",
       "      <td>275000.0</td>\n",
       "    </tr>\n",
       "    <tr>\n",
       "      <th>11838</th>\n",
       "      <td>https://www.imovirtual.com/anuncio/t1-mezzanine-novo-ao-centro-do-porto-IDD9T2.html</td>\n",
       "      <td>180000.0</td>\n",
       "    </tr>\n",
       "    <tr>\n",
       "      <th>11840</th>\n",
       "      <td>https://www.imovirtual.com/anuncio/t1-centro-do-porto-IDBJ40.html</td>\n",
       "      <td>180000.0</td>\n",
       "    </tr>\n",
       "  </tbody>\n",
       "</table>\n",
       "</div>"
      ],
      "text/plain": [
       "                                                                                                                   link  \\\n",
       "2703   https://www.imovirtual.com/anuncio/t3-duplex-em-construcao-no-bonfim-com-lugar-de-garagem-IDBGov.html              \n",
       "3172   https://www.imovirtual.com/anuncio/apartamento-t1-duplex-na-melhor-zona-turistica-da-baixa-do-porto-IDquoE.html    \n",
       "3175   https://www.imovirtual.com/anuncio/ref2797-t1-t1-rua-prof-antonio-cruz-porto-park-i-IDD7S6.html                    \n",
       "3896   https://www.imovirtual.com/anuncio/ref2638-t4-duplex-h-s-joao-ipo-IDzvmR.html                                      \n",
       "3962   https://www.imovirtual.com/anuncio/ref2420-t4-rua-dr-eduardo-santos-silva-paranhos-IDpmRy.html                     \n",
       "4467   https://www.imovirtual.com/anuncio/t1-duplex-c-terraco-de-20-m2-nos-studios-residence-dragao-IDCBdu.html           \n",
       "6289   https://www.imovirtual.com/anuncio/apartamento-t0-1-ultimo-andar-baixa-da-cidade-do-porto-IDCOuj.html              \n",
       "6935   https://www.imovirtual.com/anuncio/moradia-moradia-apalacada-na-foz-do-douro-IDqBKM.html                           \n",
       "6936   https://www.imovirtual.com/anuncio/porto-contumil-alameda-IDoMBq.html                                              \n",
       "6938   https://www.imovirtual.com/anuncio/t4-novo-duplex-com-terraco-IDsdB4.html                                          \n",
       "6939   https://www.imovirtual.com/anuncio/excelente-t3-em-serralves-IDr2T0.html                                           \n",
       "6940   https://www.imovirtual.com/anuncio/ref2576-t4-avenida-da-boavista-IDsp06.html                                      \n",
       "7385   https://www.imovirtual.com/anuncio/t2-2-com-terraco-proximo-ao-metro-porto-paranhos-IDD8Kl.html                    \n",
       "7954   https://www.imovirtual.com/anuncio/t1-totalmente-recuperado-costa-cabral-5023-IDdRHi.html                          \n",
       "7955   https://www.imovirtual.com/anuncio/porto-alameda-dragao-IDoMC0.html                                                \n",
       "7956   https://www.imovirtual.com/anuncio/t1-trindade-com-varanda-mobilado-baixa-do-porto-IDA8Z3.html                     \n",
       "7957   https://www.imovirtual.com/anuncio/t0-duplex-no-centro-do-porto-IDAswE.html                                        \n",
       "7963   https://www.imovirtual.com/anuncio/excelente-t2-no-centro-do-porto-proximo-a-praca-da-republica-IDD5qH.html        \n",
       "8462   https://www.imovirtual.com/anuncio/t1-com-45-m2-mais-16-m2-de-varanda-na-baixa-do-porto-IDBcMb.html                \n",
       "8997   https://www.imovirtual.com/anuncio/t3-1-novo-na-marginal-do-rio-douro-ID6Ned.html                                  \n",
       "8998   https://www.imovirtual.com/anuncio/moradia-av-franca-porto-IDsvok.html                                             \n",
       "8999   https://www.imovirtual.com/anuncio/t5-novo-na-marginal-do-rio-douro-ID6N8H.html                                    \n",
       "9000   https://www.imovirtual.com/anuncio/apartamentos-t5-de-arquitectura-moderna-com-327m2-na-1-linha-do-IDAsiG.html     \n",
       "9002   https://www.imovirtual.com/anuncio/apartamentos-t4-1-duplex-de-arquitectura-moderna-com-349m2-na-1-IDAsiD.html     \n",
       "9004   https://www.imovirtual.com/anuncio/ref2712-t0-alameda-eca-queiros-IDBciz.html                                      \n",
       "9005   https://www.imovirtual.com/anuncio/excelente-t3-foz-como-novo-IDD77m.html                                          \n",
       "9038   https://www.imovirtual.com/anuncio/t0-totalmente-remodelado-porto-ao-metro-IDBI8X.html                             \n",
       "9465   https://www.imovirtual.com/anuncio/apartamento-t0-mobilado-e-equipado-porto-IDD4ox.html                            \n",
       "9467   https://www.imovirtual.com/anuncio/t1-jardim-da-cordoaria-h-santo-antonio-IDD7aE.html                              \n",
       "9468   https://www.imovirtual.com/anuncio/ref2584-t2-2-duplex-quinta-do-covelo-paranhos-IDstFV.html                       \n",
       "9470   https://www.imovirtual.com/anuncio/t2-cobertura-sobre-jardim-da-cordoaria-IDD7bh.html                              \n",
       "9488   https://www.imovirtual.com/anuncio/apartamento-t0-studios-residence-no-dragao-IDp6QC.html                          \n",
       "10755  https://www.imovirtual.com/anuncio/t1-1-kit-novo-em-construcao-porto-IDCk9m.html                                   \n",
       "10765  https://www.imovirtual.com/anuncio/t0-c-terraco-de-16-m2-reabilitado-aos-poveiros-no-porto-IDAZ14.html             \n",
       "11276  https://www.imovirtual.com/anuncio/cobertura-t4-IDD2mW.html                                                        \n",
       "11343  https://www.imovirtual.com/anuncio/t0-a-ribeira-baixa-do-porto-IDA92D.html                                         \n",
       "11377  https://www.imovirtual.com/anuncio/t1-duplex-com-varanda-na-baixa-do-porto-em-construcao-conclusao-p-IDCVC1.html   \n",
       "11424  https://www.imovirtual.com/anuncio/t4-em-construcao-IDD2m3.html                                                    \n",
       "11625  https://www.imovirtual.com/anuncio/apartamento-t1-duplex-mezanine-bonfim-porto-IDBkwB.html                         \n",
       "11665  https://www.imovirtual.com/anuncio/2-x-t1-duplex-com-terraco-junto-ao-metro-do-heroismo-IDAS7L.html                \n",
       "11808  https://www.imovirtual.com/anuncio/apartamento-IDD9SK.html                                                         \n",
       "11837  https://www.imovirtual.com/anuncio/excelente-t1-1-cedofeita-IDBJNG.html                                            \n",
       "11838  https://www.imovirtual.com/anuncio/t1-mezzanine-novo-ao-centro-do-porto-IDD9T2.html                                \n",
       "11840  https://www.imovirtual.com/anuncio/t1-centro-do-porto-IDBJ40.html                                                  \n",
       "\n",
       "           price  \n",
       "2703   400000.0   \n",
       "3172   385000.0   \n",
       "3175   200000.0   \n",
       "3896   425000.0   \n",
       "3962   300000.0   \n",
       "4467   195000.0   \n",
       "6289   170000.0   \n",
       "6935   2200000.0  \n",
       "6936   270000.0   \n",
       "6938   587800.0   \n",
       "6939   480000.0   \n",
       "6940   600500.0   \n",
       "7385   165000.0   \n",
       "7954   125000.0   \n",
       "7955   350000.0   \n",
       "7956   240000.0   \n",
       "7957   159500.0   \n",
       "7963   320000.0   \n",
       "8462   185000.0   \n",
       "8997   780000.0   \n",
       "8998   550000.0   \n",
       "8999   1050000.0  \n",
       "9000   1050000.0  \n",
       "9002   1200000.0  \n",
       "9004   125000.0   \n",
       "9005   900000.0   \n",
       "9038   140000.0   \n",
       "9465   180000.0   \n",
       "9467   199900.0   \n",
       "9468   165000.0   \n",
       "9470   320000.0   \n",
       "9488   130000.0   \n",
       "10755  275000.0   \n",
       "10765  140000.0   \n",
       "11276  1750000.0  \n",
       "11343  230000.0   \n",
       "11377  196000.0   \n",
       "11424  670000.0   \n",
       "11625  175000.0   \n",
       "11665  240000.0   \n",
       "11808  110000.0   \n",
       "11837  275000.0   \n",
       "11838  180000.0   \n",
       "11840  180000.0   "
      ]
     },
     "execution_count": 186,
     "metadata": {},
     "output_type": "execute_result"
    }
   ],
   "source": [
    "df.loc[df.creation_date>1000][['link','price']]"
   ]
  },
  {
   "cell_type": "code",
   "execution_count": null,
   "metadata": {},
   "outputs": [],
   "source": []
  }
 ],
 "metadata": {
  "kernelspec": {
   "display_name": "Python 3",
   "language": "python",
   "name": "python3"
  },
  "language_info": {
   "codemirror_mode": {
    "name": "ipython",
    "version": 3
   },
   "file_extension": ".py",
   "mimetype": "text/x-python",
   "name": "python",
   "nbconvert_exporter": "python",
   "pygments_lexer": "ipython3",
   "version": "3.8.3"
  }
 },
 "nbformat": 4,
 "nbformat_minor": 4
}
