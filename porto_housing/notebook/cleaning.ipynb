{
 "cells": [
  {
   "cell_type": "code",
   "execution_count": 47,
   "metadata": {},
   "outputs": [],
   "source": [
    "import pandas as pd"
   ]
  },
  {
   "cell_type": "code",
   "execution_count": 48,
   "metadata": {},
   "outputs": [],
   "source": [
    "df=pd.read_csv('../../../random_projects/porto_housing/final.csv')"
   ]
  },
  {
   "cell_type": "code",
   "execution_count": 49,
   "metadata": {},
   "outputs": [
    {
     "data": {
      "text/plain": [
       "Index(['Empree', 'Tipolo', 'address', 'agency', 'ano', 'areab', 'areau',\n",
       "       'certif', 'creation_date', 'descricao', 'estado', 'from_agency', 'id',\n",
       "       'link', 'modified_date', 'price', 'title', 'wc'],\n",
       "      dtype='object')"
      ]
     },
     "execution_count": 49,
     "metadata": {},
     "output_type": "execute_result"
    }
   ],
   "source": [
    "df.columns"
   ]
  },
  {
   "cell_type": "code",
   "execution_count": 50,
   "metadata": {},
   "outputs": [
    {
     "data": {
      "text/plain": [
       "T1                 4044\n",
       "T2                 3151\n",
       "T3                 2001\n",
       "T0                 1465\n",
       "T4                 1117\n",
       "T5                 179 \n",
       "T6                 16  \n",
       "T10 ou superior    4   \n",
       "T9                 2   \n",
       "T7                 1   \n",
       "Name: Tipolo, dtype: int64"
      ]
     },
     "execution_count": 50,
     "metadata": {},
     "output_type": "execute_result"
    }
   ],
   "source": [
    "df.Tipolo.value_counts()"
   ]
  },
  {
   "cell_type": "code",
   "execution_count": 51,
   "metadata": {},
   "outputs": [],
   "source": [
    "# cleaning numbers columns\n",
    "def numbers_float(series):\n",
    "    new=series.str.replace(r'[\\s+A-zç+€''²\\n]', '')\n",
    "    new=new.replace('',None)\n",
    "    new=new.str.replace(',','.')\n",
    "    \n",
    "    new=new.astype(float)\n",
    "    return new"
   ]
  },
  {
   "cell_type": "code",
   "execution_count": 52,
   "metadata": {},
   "outputs": [],
   "source": [
    "df.price=numbers_float(df.price)"
   ]
  },
  {
   "cell_type": "code",
   "execution_count": 53,
   "metadata": {},
   "outputs": [],
   "source": [
    "df.wc=numbers_float(df.wc)"
   ]
  },
  {
   "cell_type": "code",
   "execution_count": 54,
   "metadata": {},
   "outputs": [],
   "source": [
    "df.areau=numbers_float(df.areau)"
   ]
  },
  {
   "cell_type": "code",
   "execution_count": 55,
   "metadata": {},
   "outputs": [],
   "source": [
    "df.areab=numbers_float(df.areab)"
   ]
  },
  {
   "cell_type": "code",
   "execution_count": 56,
   "metadata": {},
   "outputs": [],
   "source": [
    "df.Tipolo=numbers_float(df.Tipolo)"
   ]
  },
  {
   "cell_type": "code",
   "execution_count": 57,
   "metadata": {},
   "outputs": [
    {
     "data": {
      "text/html": [
       "<div>\n",
       "<style scoped>\n",
       "    .dataframe tbody tr th:only-of-type {\n",
       "        vertical-align: middle;\n",
       "    }\n",
       "\n",
       "    .dataframe tbody tr th {\n",
       "        vertical-align: top;\n",
       "    }\n",
       "\n",
       "    .dataframe thead th {\n",
       "        text-align: right;\n",
       "    }\n",
       "</style>\n",
       "<table border=\"1\" class=\"dataframe\">\n",
       "  <thead>\n",
       "    <tr style=\"text-align: right;\">\n",
       "      <th></th>\n",
       "      <th>Tipolo</th>\n",
       "      <th>ano</th>\n",
       "      <th>areab</th>\n",
       "      <th>areau</th>\n",
       "      <th>price</th>\n",
       "      <th>wc</th>\n",
       "    </tr>\n",
       "  </thead>\n",
       "  <tbody>\n",
       "    <tr>\n",
       "      <th>count</th>\n",
       "      <td>11980.000000</td>\n",
       "      <td>5029.000000</td>\n",
       "      <td>8261.000000</td>\n",
       "      <td>11981.000000</td>\n",
       "      <td>1.198100e+04</td>\n",
       "      <td>9925.000000</td>\n",
       "    </tr>\n",
       "    <tr>\n",
       "      <th>mean</th>\n",
       "      <td>1.825793</td>\n",
       "      <td>2011.263273</td>\n",
       "      <td>113.275870</td>\n",
       "      <td>162.476288</td>\n",
       "      <td>3.141979e+05</td>\n",
       "      <td>1.778136</td>\n",
       "    </tr>\n",
       "    <tr>\n",
       "      <th>std</th>\n",
       "      <td>1.234485</td>\n",
       "      <td>49.549372</td>\n",
       "      <td>211.309228</td>\n",
       "      <td>6725.915862</td>\n",
       "      <td>2.279589e+05</td>\n",
       "      <td>0.931958</td>\n",
       "    </tr>\n",
       "    <tr>\n",
       "      <th>min</th>\n",
       "      <td>0.000000</td>\n",
       "      <td>30.000000</td>\n",
       "      <td>0.840000</td>\n",
       "      <td>1.000000</td>\n",
       "      <td>2.000000e+00</td>\n",
       "      <td>1.000000</td>\n",
       "    </tr>\n",
       "    <tr>\n",
       "      <th>25%</th>\n",
       "      <td>1.000000</td>\n",
       "      <td>2013.000000</td>\n",
       "      <td>56.000000</td>\n",
       "      <td>50.000000</td>\n",
       "      <td>1.740000e+05</td>\n",
       "      <td>1.000000</td>\n",
       "    </tr>\n",
       "    <tr>\n",
       "      <th>50%</th>\n",
       "      <td>2.000000</td>\n",
       "      <td>2020.000000</td>\n",
       "      <td>90.000000</td>\n",
       "      <td>76.500000</td>\n",
       "      <td>2.490000e+05</td>\n",
       "      <td>1.000000</td>\n",
       "    </tr>\n",
       "    <tr>\n",
       "      <th>75%</th>\n",
       "      <td>3.000000</td>\n",
       "      <td>2020.000000</td>\n",
       "      <td>140.500000</td>\n",
       "      <td>116.000000</td>\n",
       "      <td>3.700000e+05</td>\n",
       "      <td>2.000000</td>\n",
       "    </tr>\n",
       "    <tr>\n",
       "      <th>max</th>\n",
       "      <td>10.000000</td>\n",
       "      <td>2022.000000</td>\n",
       "      <td>14911.000000</td>\n",
       "      <td>731000.000000</td>\n",
       "      <td>3.500000e+06</td>\n",
       "      <td>4.000000</td>\n",
       "    </tr>\n",
       "  </tbody>\n",
       "</table>\n",
       "</div>"
      ],
      "text/plain": [
       "             Tipolo          ano         areab          areau         price  \\\n",
       "count  11980.000000  5029.000000  8261.000000   11981.000000   1.198100e+04   \n",
       "mean   1.825793      2011.263273  113.275870    162.476288     3.141979e+05   \n",
       "std    1.234485      49.549372    211.309228    6725.915862    2.279589e+05   \n",
       "min    0.000000      30.000000    0.840000      1.000000       2.000000e+00   \n",
       "25%    1.000000      2013.000000  56.000000     50.000000      1.740000e+05   \n",
       "50%    2.000000      2020.000000  90.000000     76.500000      2.490000e+05   \n",
       "75%    3.000000      2020.000000  140.500000    116.000000     3.700000e+05   \n",
       "max    10.000000     2022.000000  14911.000000  731000.000000  3.500000e+06   \n",
       "\n",
       "                wc  \n",
       "count  9925.000000  \n",
       "mean   1.778136     \n",
       "std    0.931958     \n",
       "min    1.000000     \n",
       "25%    1.000000     \n",
       "50%    1.000000     \n",
       "75%    2.000000     \n",
       "max    4.000000     "
      ]
     },
     "execution_count": 57,
     "metadata": {},
     "output_type": "execute_result"
    }
   ],
   "source": [
    "df.describe()"
   ]
  },
  {
   "cell_type": "code",
   "execution_count": 58,
   "metadata": {},
   "outputs": [
    {
     "data": {
      "text/plain": [
       "Empree           2271\n",
       "Tipolo           1   \n",
       "address          0   \n",
       "agency           172 \n",
       "ano              6952\n",
       "areab            3720\n",
       "areau            0   \n",
       "certif           5425\n",
       "creation_date    0   \n",
       "descricao        775 \n",
       "estado           1419\n",
       "from_agency      0   \n",
       "id               0   \n",
       "link             0   \n",
       "modified_date    0   \n",
       "price            0   \n",
       "title            0   \n",
       "wc               2056\n",
       "dtype: int64"
      ]
     },
     "execution_count": 58,
     "metadata": {},
     "output_type": "execute_result"
    }
   ],
   "source": [
    "df.isnull().sum()"
   ]
  },
  {
   "cell_type": "code",
   "execution_count": 59,
   "metadata": {},
   "outputs": [],
   "source": [
    "import datetime\n",
    "\n",
    "def datas(series):\n",
    "    d=series.str.replace('Data de modificação: há ', '')\n",
    "    d=d.str.replace('aproximadamente ', '')\n",
    "    d=d.str.replace('quase ', '')\n",
    "    d=d.str.replace('Data de criação: há ', '')\n",
    "    d=d.str.replace('mais de ', '')\n",
    "    d=d.str.replace('anos', 'Y')\n",
    "    d=d.str.replace('ano', 'Y')\n",
    "    d=d.str.replace('meses', 'M')\n",
    "    d=d.str.replace('mês', 'M')\n",
    "    d=d.str.replace('dias', 'D')\n",
    "    d=d.str.replace('dia', 'D')    \n",
    "    d=d.str.replace('horas', 'H')\n",
    "    d=d.str.replace('hora', 'H')    \n",
    "    d=d.str.replace('minutos', 'm')\n",
    "    d=d.str.replace('minuto', 'm')    \n",
    "    \n",
    "    return d\n",
    "    "
   ]
  },
  {
   "cell_type": "code",
   "execution_count": 60,
   "metadata": {},
   "outputs": [],
   "source": [
    "df.modified_date=datas(df.modified_date)"
   ]
  },
  {
   "cell_type": "code",
   "execution_count": 61,
   "metadata": {},
   "outputs": [],
   "source": [
    "df.modified_date=pd.to_timedelta(df.modified_date)"
   ]
  },
  {
   "cell_type": "code",
   "execution_count": 62,
   "metadata": {},
   "outputs": [],
   "source": [
    "df[['time','unit']] = datas(df.creation_date).str.split(expand=True)"
   ]
  },
  {
   "cell_type": "code",
   "execution_count": 63,
   "metadata": {},
   "outputs": [],
   "source": [
    "df.time=df.time.astype(int)"
   ]
  },
  {
   "cell_type": "code",
   "execution_count": 64,
   "metadata": {},
   "outputs": [],
   "source": [
    "df.unit=df.unit.replace({'Y': 365, 'M': 30, 'D':1, 'H':1/24, 'm':1/24/60})"
   ]
  },
  {
   "cell_type": "code",
   "execution_count": 65,
   "metadata": {},
   "outputs": [],
   "source": [
    "df.creation_date=df.unit*df.time"
   ]
  },
  {
   "cell_type": "code",
   "execution_count": 66,
   "metadata": {},
   "outputs": [
    {
     "data": {
      "text/plain": [
       "0        365.000000\n",
       "1        0.666667  \n",
       "2        0.791667  \n",
       "3        365.000000\n",
       "4        120.000000\n",
       "            ...    \n",
       "11976    120.000000\n",
       "11977    120.000000\n",
       "11978    120.000000\n",
       "11979    270.000000\n",
       "11980    120.000000\n",
       "Name: creation_date, Length: 11981, dtype: float64"
      ]
     },
     "execution_count": 66,
     "metadata": {},
     "output_type": "execute_result"
    }
   ],
   "source": [
    "df.creation_date"
   ]
  },
  {
   "cell_type": "code",
   "execution_count": 67,
   "metadata": {},
   "outputs": [
    {
     "data": {
      "text/plain": [
       "8 days 00:00:00     1116\n",
       "11 days 00:00:00    1032\n",
       "3 days 00:00:00     976 \n",
       "24 days 00:00:00    765 \n",
       "12 days 00:00:00    584 \n",
       "                   ...  \n",
       "0 days 00:18:00     1   \n",
       "0 days 08:00:00     1   \n",
       "0 days 00:15:00     1   \n",
       "0 days 00:12:00     1   \n",
       "0 days 00:19:00     1   \n",
       "Name: modified_date, Length: 66, dtype: int64"
      ]
     },
     "execution_count": 67,
     "metadata": {},
     "output_type": "execute_result"
    }
   ],
   "source": [
    "df.modified_date.value_counts()"
   ]
  },
  {
   "cell_type": "code",
   "execution_count": 68,
   "metadata": {},
   "outputs": [
    {
     "data": {
      "text/plain": [
       "165      https://www.imovirtual.com/anuncio/t3-c-terraco-de-743m2-em-cond-fechado-ID13009.html                        \n",
       "1761     https://www.imovirtual.com/anuncio/apartamento-t2-com-varanda-na-campanha-porto-ID10UFZ.html                 \n",
       "2149     https://www.imovirtual.com/anuncio/apartamento-t2-novo-proximo-da-avenida-fernao-magalhaes-antas-ID14vWL.html\n",
       "6365     https://www.imovirtual.com/anuncio/t2-paranhos-ID145Rz.html                                                  \n",
       "7341     https://www.imovirtual.com/anuncio/to-buy-compra-apartamento-t2-1-triplex-IDV5eC.html                        \n",
       "7831     https://www.imovirtual.com/anuncio/imovel-centro-do-porto-IDZFmb.html                                        \n",
       "8119     https://www.imovirtual.com/anuncio/apartamento-t2-duplex-ribeira-porto-ID13Kxc.html                          \n",
       "8892     https://www.imovirtual.com/anuncio/moradias-antigas-c-projeto-para-7-apartamentos-portugal-porto-ID10kGG.html\n",
       "8894     https://www.imovirtual.com/anuncio/predio-antigo-para-apartamentos-portugal-porto-ID10kFC.html               \n",
       "9171     https://www.imovirtual.com/anuncio/edificio-habitacional-apartamentos-t3-ID13kEt.html                        \n",
       "9835     https://www.imovirtual.com/anuncio/apartamento-t4-venda-porto-IDOCJ4.html                                    \n",
       "11298    https://www.imovirtual.com/anuncio/predio-para-reconstruir-em-rua-historica-do-porto-ID11aPg.html            \n",
       "Name: link, dtype: object"
      ]
     },
     "execution_count": 68,
     "metadata": {},
     "output_type": "execute_result"
    }
   ],
   "source": [
    "pd.set_option('display.max_colwidth',0)\n",
    "\n",
    "df.loc[df.areau>600]['link']"
   ]
  },
  {
   "cell_type": "code",
   "execution_count": 69,
   "metadata": {},
   "outputs": [],
   "source": [
    "df=df.drop(df.loc[df.areau>500].index)"
   ]
  },
  {
   "cell_type": "code",
   "execution_count": 70,
   "metadata": {},
   "outputs": [
    {
     "ename": "ModuleNotFoundError",
     "evalue": "No module named 'seaborn'",
     "output_type": "error",
     "traceback": [
      "\u001b[1;31m---------------------------------------------------------------------------\u001b[0m",
      "\u001b[1;31mModuleNotFoundError\u001b[0m                       Traceback (most recent call last)",
      "\u001b[1;32m<ipython-input-70-69023f33ee14>\u001b[0m in \u001b[0;36m<module>\u001b[1;34m\u001b[0m\n\u001b[1;32m----> 1\u001b[1;33m \u001b[1;32mimport\u001b[0m \u001b[0mseaborn\u001b[0m \u001b[1;32mas\u001b[0m \u001b[0msns\u001b[0m\u001b[1;33m\u001b[0m\u001b[1;33m\u001b[0m\u001b[0m\n\u001b[0m\u001b[0;32m      2\u001b[0m \u001b[1;32mimport\u001b[0m \u001b[0mmatplotlib\u001b[0m\u001b[1;33m.\u001b[0m\u001b[0mpyplot\u001b[0m \u001b[1;32mas\u001b[0m \u001b[0mplt\u001b[0m\u001b[1;33m\u001b[0m\u001b[1;33m\u001b[0m\u001b[0m\n\u001b[0;32m      3\u001b[0m \u001b[0max\u001b[0m \u001b[1;33m=\u001b[0m \u001b[0msns\u001b[0m\u001b[1;33m.\u001b[0m\u001b[0mdistplot\u001b[0m\u001b[1;33m(\u001b[0m\u001b[0mdf\u001b[0m\u001b[1;33m.\u001b[0m\u001b[0mareau\u001b[0m\u001b[1;33m)\u001b[0m\u001b[1;33m\u001b[0m\u001b[1;33m\u001b[0m\u001b[0m\n",
      "\u001b[1;31mModuleNotFoundError\u001b[0m: No module named 'seaborn'"
     ]
    }
   ],
   "source": [
    "import seaborn as sns\n",
    "import matplotlib.pyplot as plt\n",
    "ax = sns.distplot(df.areau)"
   ]
  },
  {
   "cell_type": "code",
   "execution_count": 71,
   "metadata": {},
   "outputs": [],
   "source": [
    "df=df.drop(df.loc[df.price>1000000].index)"
   ]
  },
  {
   "cell_type": "code",
   "execution_count": 72,
   "metadata": {},
   "outputs": [
    {
     "ename": "NameError",
     "evalue": "name 'plt' is not defined",
     "output_type": "error",
     "traceback": [
      "\u001b[1;31m---------------------------------------------------------------------------\u001b[0m",
      "\u001b[1;31mNameError\u001b[0m                                 Traceback (most recent call last)",
      "\u001b[1;32m<ipython-input-72-d9c660aedaf2>\u001b[0m in \u001b[0;36m<module>\u001b[1;34m\u001b[0m\n\u001b[1;32m----> 1\u001b[1;33m \u001b[0mf\u001b[0m\u001b[1;33m,\u001b[0m \u001b[0max\u001b[0m \u001b[1;33m=\u001b[0m \u001b[0mplt\u001b[0m\u001b[1;33m.\u001b[0m\u001b[0msubplots\u001b[0m\u001b[1;33m(\u001b[0m\u001b[0mfigsize\u001b[0m\u001b[1;33m=\u001b[0m\u001b[1;33m(\u001b[0m\u001b[1;36m14\u001b[0m\u001b[1;33m,\u001b[0m \u001b[1;36m6\u001b[0m\u001b[1;33m)\u001b[0m\u001b[1;33m)\u001b[0m\u001b[1;33m\u001b[0m\u001b[1;33m\u001b[0m\u001b[0m\n\u001b[0m\u001b[0;32m      2\u001b[0m \u001b[0max\u001b[0m \u001b[1;33m=\u001b[0m \u001b[0msns\u001b[0m\u001b[1;33m.\u001b[0m\u001b[0mdistplot\u001b[0m\u001b[1;33m(\u001b[0m\u001b[0mdf\u001b[0m\u001b[1;33m.\u001b[0m\u001b[0mprice\u001b[0m\u001b[1;33m)\u001b[0m\u001b[1;33m\u001b[0m\u001b[1;33m\u001b[0m\u001b[0m\n",
      "\u001b[1;31mNameError\u001b[0m: name 'plt' is not defined"
     ]
    }
   ],
   "source": [
    "\n",
    "f, ax = plt.subplots(figsize=(14, 6))\n",
    "ax = sns.distplot(df.price)\n"
   ]
  },
  {
   "cell_type": "code",
   "execution_count": null,
   "metadata": {},
   "outputs": [],
   "source": []
  },
  {
   "cell_type": "code",
   "execution_count": 73,
   "metadata": {},
   "outputs": [],
   "source": [
    "df.modified_date=df.modified_date.apply(lambda x: x.days+x.seconds/3600/24)"
   ]
  },
  {
   "cell_type": "code",
   "execution_count": 74,
   "metadata": {},
   "outputs": [
    {
     "ename": "NameError",
     "evalue": "name 'plt' is not defined",
     "output_type": "error",
     "traceback": [
      "\u001b[1;31m---------------------------------------------------------------------------\u001b[0m",
      "\u001b[1;31mNameError\u001b[0m                                 Traceback (most recent call last)",
      "\u001b[1;32m<ipython-input-74-a59be4997e01>\u001b[0m in \u001b[0;36m<module>\u001b[1;34m\u001b[0m\n\u001b[1;32m----> 1\u001b[1;33m \u001b[0mf\u001b[0m\u001b[1;33m,\u001b[0m \u001b[0max\u001b[0m \u001b[1;33m=\u001b[0m \u001b[0mplt\u001b[0m\u001b[1;33m.\u001b[0m\u001b[0msubplots\u001b[0m\u001b[1;33m(\u001b[0m\u001b[0mfigsize\u001b[0m\u001b[1;33m=\u001b[0m\u001b[1;33m(\u001b[0m\u001b[1;36m14\u001b[0m\u001b[1;33m,\u001b[0m \u001b[1;36m6\u001b[0m\u001b[1;33m)\u001b[0m\u001b[1;33m)\u001b[0m\u001b[1;33m\u001b[0m\u001b[1;33m\u001b[0m\u001b[0m\n\u001b[0m\u001b[0;32m      2\u001b[0m \u001b[0max\u001b[0m \u001b[1;33m=\u001b[0m \u001b[0msns\u001b[0m\u001b[1;33m.\u001b[0m\u001b[0mdistplot\u001b[0m\u001b[1;33m(\u001b[0m\u001b[0mdf\u001b[0m\u001b[1;33m.\u001b[0m\u001b[0mmodified_date\u001b[0m\u001b[1;33m,\u001b[0m \u001b[0mbins\u001b[0m\u001b[1;33m=\u001b[0m\u001b[1;36m30\u001b[0m\u001b[1;33m)\u001b[0m\u001b[1;33m\u001b[0m\u001b[1;33m\u001b[0m\u001b[0m\n",
      "\u001b[1;31mNameError\u001b[0m: name 'plt' is not defined"
     ]
    }
   ],
   "source": [
    "f, ax = plt.subplots(figsize=(14, 6))\n",
    "ax = sns.distplot(df.modified_date, bins=30)"
   ]
  },
  {
   "cell_type": "code",
   "execution_count": 75,
   "metadata": {},
   "outputs": [
    {
     "ename": "NameError",
     "evalue": "name 'plt' is not defined",
     "output_type": "error",
     "traceback": [
      "\u001b[1;31m---------------------------------------------------------------------------\u001b[0m",
      "\u001b[1;31mNameError\u001b[0m                                 Traceback (most recent call last)",
      "\u001b[1;32m<ipython-input-75-322d5b6813a6>\u001b[0m in \u001b[0;36m<module>\u001b[1;34m\u001b[0m\n\u001b[1;32m----> 1\u001b[1;33m \u001b[0mf\u001b[0m\u001b[1;33m,\u001b[0m \u001b[0max\u001b[0m \u001b[1;33m=\u001b[0m \u001b[0mplt\u001b[0m\u001b[1;33m.\u001b[0m\u001b[0msubplots\u001b[0m\u001b[1;33m(\u001b[0m\u001b[0mfigsize\u001b[0m\u001b[1;33m=\u001b[0m\u001b[1;33m(\u001b[0m\u001b[1;36m14\u001b[0m\u001b[1;33m,\u001b[0m \u001b[1;36m6\u001b[0m\u001b[1;33m)\u001b[0m\u001b[1;33m)\u001b[0m\u001b[1;33m\u001b[0m\u001b[1;33m\u001b[0m\u001b[0m\n\u001b[0m\u001b[0;32m      2\u001b[0m \u001b[0max\u001b[0m \u001b[1;33m=\u001b[0m \u001b[0msns\u001b[0m\u001b[1;33m.\u001b[0m\u001b[0mdistplot\u001b[0m\u001b[1;33m(\u001b[0m\u001b[0mdf\u001b[0m\u001b[1;33m.\u001b[0m\u001b[0mcreation_date\u001b[0m\u001b[1;33m,\u001b[0m \u001b[0mrug\u001b[0m\u001b[1;33m=\u001b[0m\u001b[1;32mTrue\u001b[0m\u001b[1;33m)\u001b[0m\u001b[1;33m\u001b[0m\u001b[1;33m\u001b[0m\u001b[0m\n\u001b[0;32m      3\u001b[0m \u001b[1;31m#ax.set_xscale('log')\u001b[0m\u001b[1;33m\u001b[0m\u001b[1;33m\u001b[0m\u001b[1;33m\u001b[0m\u001b[0m\n",
      "\u001b[1;31mNameError\u001b[0m: name 'plt' is not defined"
     ]
    }
   ],
   "source": [
    "f, ax = plt.subplots(figsize=(14, 6))\n",
    "ax = sns.distplot(df.creation_date, rug=True)\n",
    "#ax.set_xscale('log')"
   ]
  },
  {
   "cell_type": "code",
   "execution_count": 76,
   "metadata": {},
   "outputs": [
    {
     "data": {
      "text/plain": [
       "2703     https://www.imovirtual.com/anuncio/t3-duplex-em-construcao-no-bonfim-com-lugar-de-garagem-IDBGov.html           \n",
       "3172     https://www.imovirtual.com/anuncio/apartamento-t1-duplex-na-melhor-zona-turistica-da-baixa-do-porto-IDquoE.html \n",
       "3175     https://www.imovirtual.com/anuncio/ref2797-t1-t1-rua-prof-antonio-cruz-porto-park-i-IDD7S6.html                 \n",
       "3896     https://www.imovirtual.com/anuncio/ref2638-t4-duplex-h-s-joao-ipo-IDzvmR.html                                   \n",
       "3962     https://www.imovirtual.com/anuncio/ref2420-t4-rua-dr-eduardo-santos-silva-paranhos-IDpmRy.html                  \n",
       "4467     https://www.imovirtual.com/anuncio/t1-duplex-c-terraco-de-20-m2-nos-studios-residence-dragao-IDCBdu.html        \n",
       "6289     https://www.imovirtual.com/anuncio/apartamento-t0-1-ultimo-andar-baixa-da-cidade-do-porto-IDCOuj.html           \n",
       "6936     https://www.imovirtual.com/anuncio/porto-contumil-alameda-IDoMBq.html                                           \n",
       "6938     https://www.imovirtual.com/anuncio/t4-novo-duplex-com-terraco-IDsdB4.html                                       \n",
       "6939     https://www.imovirtual.com/anuncio/excelente-t3-em-serralves-IDr2T0.html                                        \n",
       "6940     https://www.imovirtual.com/anuncio/ref2576-t4-avenida-da-boavista-IDsp06.html                                   \n",
       "7385     https://www.imovirtual.com/anuncio/t2-2-com-terraco-proximo-ao-metro-porto-paranhos-IDD8Kl.html                 \n",
       "7954     https://www.imovirtual.com/anuncio/t1-totalmente-recuperado-costa-cabral-5023-IDdRHi.html                       \n",
       "7955     https://www.imovirtual.com/anuncio/porto-alameda-dragao-IDoMC0.html                                             \n",
       "7956     https://www.imovirtual.com/anuncio/t1-trindade-com-varanda-mobilado-baixa-do-porto-IDA8Z3.html                  \n",
       "7957     https://www.imovirtual.com/anuncio/t0-duplex-no-centro-do-porto-IDAswE.html                                     \n",
       "7963     https://www.imovirtual.com/anuncio/excelente-t2-no-centro-do-porto-proximo-a-praca-da-republica-IDD5qH.html     \n",
       "8462     https://www.imovirtual.com/anuncio/t1-com-45-m2-mais-16-m2-de-varanda-na-baixa-do-porto-IDBcMb.html             \n",
       "8997     https://www.imovirtual.com/anuncio/t3-1-novo-na-marginal-do-rio-douro-ID6Ned.html                               \n",
       "8998     https://www.imovirtual.com/anuncio/moradia-av-franca-porto-IDsvok.html                                          \n",
       "9004     https://www.imovirtual.com/anuncio/ref2712-t0-alameda-eca-queiros-IDBciz.html                                   \n",
       "9005     https://www.imovirtual.com/anuncio/excelente-t3-foz-como-novo-IDD77m.html                                       \n",
       "9038     https://www.imovirtual.com/anuncio/t0-totalmente-remodelado-porto-ao-metro-IDBI8X.html                          \n",
       "9465     https://www.imovirtual.com/anuncio/apartamento-t0-mobilado-e-equipado-porto-IDD4ox.html                         \n",
       "9467     https://www.imovirtual.com/anuncio/t1-jardim-da-cordoaria-h-santo-antonio-IDD7aE.html                           \n",
       "9468     https://www.imovirtual.com/anuncio/ref2584-t2-2-duplex-quinta-do-covelo-paranhos-IDstFV.html                    \n",
       "9470     https://www.imovirtual.com/anuncio/t2-cobertura-sobre-jardim-da-cordoaria-IDD7bh.html                           \n",
       "9488     https://www.imovirtual.com/anuncio/apartamento-t0-studios-residence-no-dragao-IDp6QC.html                       \n",
       "10755    https://www.imovirtual.com/anuncio/t1-1-kit-novo-em-construcao-porto-IDCk9m.html                                \n",
       "10765    https://www.imovirtual.com/anuncio/t0-c-terraco-de-16-m2-reabilitado-aos-poveiros-no-porto-IDAZ14.html          \n",
       "11343    https://www.imovirtual.com/anuncio/t0-a-ribeira-baixa-do-porto-IDA92D.html                                      \n",
       "11377    https://www.imovirtual.com/anuncio/t1-duplex-com-varanda-na-baixa-do-porto-em-construcao-conclusao-p-IDCVC1.html\n",
       "11424    https://www.imovirtual.com/anuncio/t4-em-construcao-IDD2m3.html                                                 \n",
       "11625    https://www.imovirtual.com/anuncio/apartamento-t1-duplex-mezanine-bonfim-porto-IDBkwB.html                      \n",
       "11665    https://www.imovirtual.com/anuncio/2-x-t1-duplex-com-terraco-junto-ao-metro-do-heroismo-IDAS7L.html             \n",
       "11808    https://www.imovirtual.com/anuncio/apartamento-IDD9SK.html                                                      \n",
       "11837    https://www.imovirtual.com/anuncio/excelente-t1-1-cedofeita-IDBJNG.html                                         \n",
       "11838    https://www.imovirtual.com/anuncio/t1-mezzanine-novo-ao-centro-do-porto-IDD9T2.html                             \n",
       "11840    https://www.imovirtual.com/anuncio/t1-centro-do-porto-IDBJ40.html                                               \n",
       "Name: link, dtype: object"
      ]
     },
     "execution_count": 76,
     "metadata": {},
     "output_type": "execute_result"
    }
   ],
   "source": [
    "pd.set_option('display.max_colwidth',0)\n",
    "\n",
    "df.loc[df.creation_date>1000]['link']"
   ]
  },
  {
   "cell_type": "code",
   "execution_count": 77,
   "metadata": {},
   "outputs": [
    {
     "data": {
      "text/plain": [
       "Em construção     3884\n",
       "Novo              3523\n",
       "Usado             1891\n",
       "Renovado          1010\n",
       "Para recuperar    57  \n",
       "Name: estado, dtype: int64"
      ]
     },
     "execution_count": 77,
     "metadata": {},
     "output_type": "execute_result"
    }
   ],
   "source": [
    "df.estado.value_counts()"
   ]
  },
  {
   "cell_type": "code",
   "execution_count": 78,
   "metadata": {},
   "outputs": [
    {
     "data": {
      "text/plain": [
       "Anúncio Agência           11168\n",
       "Consultor                 199  \n",
       "Anúncio Empreendimento    142  \n",
       "Promotor                  123  \n",
       "Gestor                    87   \n",
       "Anúncio Particular        45   \n",
       "Name: from_agency, dtype: int64"
      ]
     },
     "execution_count": 78,
     "metadata": {},
     "output_type": "execute_result"
    }
   ],
   "source": [
    "df.from_agency.value_counts()"
   ]
  },
  {
   "cell_type": "code",
   "execution_count": 79,
   "metadata": {},
   "outputs": [
    {
     "data": {
      "text/plain": [
       "0        <a href=\"https://www.imovirtual.com/anuncio/apartamento-t-4-cobertura-nas-antas-com-vistas-para-praca-IDXcu0.html\">click_link</a>\n",
       "1        <a href=\"https://www.imovirtual.com/anuncio/apartamento-t2-com-varanda-em-paranhos-ID14yOC.html\">click_link</a>                  \n",
       "2        <a href=\"https://www.imovirtual.com/anuncio/apartamento-t0-remodelado-na-ribeira-ID14yBO.html\">click_link</a>                    \n",
       "3        <a href=\"https://www.imovirtual.com/anuncio/t1-asprela-gardens-ID10504.html\">click_link</a>                                      \n",
       "4        <a href=\"https://www.imovirtual.com/anuncio/t1-duplex-com-varanda-ID13jtb.html\">click_link</a>                                   \n",
       "                                                      ...                                                                                 \n",
       "11976    <a href=\"https://www.imovirtual.com/anuncio/t1-asprela-em-construcao-ID13oIV.html\">click_link</a>                                \n",
       "11977    <a href=\"https://www.imovirtual.com/anuncio/t1-novo-ao-polo-universitario-na-asprela-ID13oIa.html\">click_link</a>                \n",
       "11978    <a href=\"https://www.imovirtual.com/anuncio/t1-hospital-s-joao-em-construcao-ID13oMe.html\">click_link</a>                        \n",
       "11979    <a href=\"https://www.imovirtual.com/anuncio/t2-construcao-em-paranhos-ID12dWM.html\">click_link</a>                               \n",
       "11980    <a href=\"https://www.imovirtual.com/anuncio/t1-polo-universitario-asprela-ID13oNE.html\">click_link</a>                           \n",
       "Name: link, Length: 11764, dtype: object"
      ]
     },
     "execution_count": 79,
     "metadata": {},
     "output_type": "execute_result"
    }
   ],
   "source": [
    "pd.set_option('display.max_colwidth',0)\n",
    "\n",
    "def make_clickable_both(url):\n",
    "    return f'<a href=\"{url}\">click_link</a>'\n",
    "\n",
    "df.link=df.link.apply(make_clickable_both)\n",
    "df.link"
   ]
  },
  {
   "cell_type": "code",
   "execution_count": 80,
   "metadata": {},
   "outputs": [],
   "source": [
    "df.to_csv('clean.csv') "
   ]
  },
  {
   "cell_type": "code",
   "execution_count": null,
   "metadata": {},
   "outputs": [],
   "source": []
  },
  {
   "cell_type": "code",
   "execution_count": 81,
   "metadata": {},
   "outputs": [],
   "source": [
    "df['district'] = df['address'].str.slice(-14, -7)"
   ]
  },
  {
   "cell_type": "code",
   "execution_count": 82,
   "metadata": {},
   "outputs": [
    {
     "data": {
      "text/plain": [
       "0        ampanhã\n",
       "1        aranhos\n",
       "2        Vitória\n",
       "3        aranhos\n",
       "4        Vitória\n",
       "          ...   \n",
       "11976    aranhos\n",
       "11977    aranhos\n",
       "11978    aranhos\n",
       "11979    aranhos\n",
       "11980    aranhos\n",
       "Name: district, Length: 11764, dtype: object"
      ]
     },
     "execution_count": 82,
     "metadata": {},
     "output_type": "execute_result"
    }
   ],
   "source": [
    "df['district']"
   ]
  },
  {
   "cell_type": "code",
   "execution_count": 83,
   "metadata": {},
   "outputs": [],
   "source": [
    "df['district']=df['district'].str.replace('ampanhã','Campanhã')\n",
    "df['district']=df['district'].str.replace('aranhos','Paranhos')\n",
    "df['district']=df['district'].str.replace('sarelo','Lordelo do Ouro e Massarelos')\n",
    "df['district']=df['district'].str.replace('Vitória','Cedofeita, Santo Ildefonso, Sé, Miragaia, São Nicolau e Vitória')\n",
    "df['district']=df['district'].str.replace(' Bonfim','Bonfim')"
   ]
  },
  {
   "cell_type": "code",
   "execution_count": 84,
   "metadata": {},
   "outputs": [
    {
     "data": {
      "text/plain": [
       "Cedofeita, Santo Ildefonso, Sé, Miragaia, São Nicolau e Vitória    4588\n",
       "Paranhos                                                           2994\n",
       "Lordelo do Ouro e Massareloss                                      1736\n",
       "Bonfim                                                             1483\n",
       "Campanhã                                                           963 \n",
       "Name: district, dtype: int64"
      ]
     },
     "execution_count": 84,
     "metadata": {},
     "output_type": "execute_result"
    }
   ],
   "source": [
    "df['district'].value_counts()"
   ]
  },
  {
   "cell_type": "code",
   "execution_count": 85,
   "metadata": {},
   "outputs": [],
   "source": [
    "df.to_csv('clean.csv') "
   ]
  },
  {
   "cell_type": "code",
   "execution_count": 86,
   "metadata": {},
   "outputs": [
    {
     "data": {
      "text/plain": [
       "Em construção     3884\n",
       "Novo              3523\n",
       "Usado             1891\n",
       "Renovado          1010\n",
       "Para recuperar    57  \n",
       "Name: estado, dtype: int64"
      ]
     },
     "execution_count": 86,
     "metadata": {},
     "output_type": "execute_result"
    }
   ],
   "source": [
    "df.estado.value_counts()"
   ]
  },
  {
   "cell_type": "code",
   "execution_count": null,
   "metadata": {},
   "outputs": [],
   "source": []
  },
  {
   "cell_type": "code",
   "execution_count": null,
   "metadata": {},
   "outputs": [],
   "source": []
  },
  {
   "cell_type": "code",
   "execution_count": null,
   "metadata": {},
   "outputs": [],
   "source": []
  },
  {
   "cell_type": "code",
   "execution_count": null,
   "metadata": {},
   "outputs": [],
   "source": []
  },
  {
   "cell_type": "code",
   "execution_count": null,
   "metadata": {},
   "outputs": [],
   "source": []
  }
 ],
 "metadata": {
  "kernelspec": {
   "display_name": "Python 3",
   "language": "python",
   "name": "python3"
  },
  "language_info": {
   "codemirror_mode": {
    "name": "ipython",
    "version": 3
   },
   "file_extension": ".py",
   "mimetype": "text/x-python",
   "name": "python",
   "nbconvert_exporter": "python",
   "pygments_lexer": "ipython3",
   "version": "3.7.9"
  }
 },
 "nbformat": 4,
 "nbformat_minor": 4
}
